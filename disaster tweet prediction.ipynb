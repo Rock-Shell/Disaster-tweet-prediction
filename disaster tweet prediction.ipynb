{
 "cells": [
  {
   "cell_type": "code",
   "execution_count": null,
   "metadata": {
    "_cell_guid": "b1076dfc-b9ad-4769-8c92-a6c4dae69d19",
    "_uuid": "8f2839f25d086af736a60e9eeb907d3b93b6e0e5"
   },
   "outputs": [],
   "source": [
    "# This Python 3 environment comes with many helpful analytics libraries installed\n",
    "# It is defined by the kaggle/python Docker image: https://github.com/kaggle/docker-python\n",
    "# For example, here's several helpful packages to load\n",
    "\n",
    "import numpy as np # linear algebra\n",
    "import pandas as pd # data processing, CSV file I/O (e.g. pd.read_csv)\n",
    "\n",
    "# Input data files are available in the read-only \"../input/\" directory\n",
    "# For example, running this (by clicking run or pressing Shift+Enter) will list all files under the input directory\n",
    "\n",
    "import os\n",
    "for dirname, _, filenames in os.walk('/kaggle/input'):\n",
    "    for filename in filenames:\n",
    "        print(os.path.join(dirname, filename))\n",
    "\n",
    "# You can write up to 20GB to the current directory (/kaggle/working/) that gets preserved as output when you create a version using \"Save & Run All\" \n",
    "# You can also write temporary files to /kaggle/temp/, but they won't be saved outside of the current session"
   ]
  },
  {
   "cell_type": "code",
   "execution_count": null,
   "metadata": {},
   "outputs": [],
   "source": [
    "train=pd.read_csv('/kaggle/input/nlp-getting-started/train.csv')\n",
    "test=pd.read_csv('/kaggle/input/nlp-getting-started/test.csv')\n",
    "print(train.head())\n",
    "# print(train['keyword'].value_counts(), train['location'].value_counts())"
   ]
  },
  {
   "cell_type": "code",
   "execution_count": null,
   "metadata": {},
   "outputs": [],
   "source": [
    "import re\n",
    "from nltk.tokenize import word_tokenize\n",
    "from nltk.corpus import stopwords\n",
    "train.info()"
   ]
  },
  {
   "cell_type": "code",
   "execution_count": null,
   "metadata": {},
   "outputs": [],
   "source": [
    "print(train['location'].value_counts())\n",
    "print(train['keyword'].value_counts())"
   ]
  },
  {
   "cell_type": "code",
   "execution_count": null,
   "metadata": {},
   "outputs": [],
   "source": [
    "def preprocess(text):\n",
    "    text=text.lower()\n",
    "    text = re.sub(r'[^\\w\\s]', '',text)\n",
    "    text = re.sub(r'\\d+', '',text)\n",
    "    text = re.sub('https?:\\/\\/t.co\\/[A-Za-z0-9]+', '', text)\n",
    "    emoji_pattern = re.compile(\"[\"\n",
    "                           u\"\\U0001F600-\\U0001F64F\"  # emoticons\n",
    "                           u\"\\U0001F300-\\U0001F5FF\"  # symbols & pictographs\n",
    "                           u\"\\U0001F680-\\U0001F6FF\"  # transport & map symbols\n",
    "                           u\"\\U0001F1E0-\\U0001F1FF\"  # flags (iOS)\n",
    "                           u\"\\U00002702-\\U000027B0\"\n",
    "                           u\"\\U000024C2-\\U0001F251\"\n",
    "                           \"]+\", flags=re.UNICODE)\n",
    "    text = emoji_pattern.sub(r'', text)\n",
    "    text=word_tokenize(text)\n",
    "    stop_words= stopwords.words('english')\n",
    "    text= [i for i in text if i not in stop_words]\n",
    "    return text"
   ]
  },
  {
   "cell_type": "code",
   "execution_count": null,
   "metadata": {},
   "outputs": [],
   "source": [
    "train['tokenized'] = train.text.apply(preprocess)\n",
    "test['tokenized'] = test.text.apply(preprocess)"
   ]
  },
  {
   "cell_type": "code",
   "execution_count": null,
   "metadata": {},
   "outputs": [],
   "source": [
    "from tensorflow.keras.preprocessing.text import Tokenizer\n",
    "import tensorflow as tf"
   ]
  },
  {
   "cell_type": "code",
   "execution_count": null,
   "metadata": {},
   "outputs": [],
   "source": [
    "tk=Tokenizer()\n",
    "train_text = train.tokenized\n",
    "train_labels = train.target\n",
    "test_text = test.tokenized\n",
    "\n",
    "tk.fit_on_texts(train_text)\n",
    "train_text = tk.texts_to_sequences(train_text)\n",
    "test_text = tk.texts_to_sequences(test_text)"
   ]
  },
  {
   "cell_type": "code",
   "execution_count": null,
   "metadata": {},
   "outputs": [],
   "source": [
    "maxlen= np.max([len(i) for i in train_text])\n",
    "train_text = tf.keras.preprocessing.sequence.pad_sequences(\n",
    "            train_text,\n",
    "            padding='post',\n",
    "            truncating='post',\n",
    "            maxlen= maxlen)\n",
    "\n",
    "test_text = tf.keras.preprocessing.sequence.pad_sequences(\n",
    "            test_text,\n",
    "            padding='post',\n",
    "            truncating='post',\n",
    "            maxlen= maxlen)"
   ]
  },
  {
   "cell_type": "code",
   "execution_count": null,
   "metadata": {},
   "outputs": [],
   "source": [
    "train_text=pd.DataFrame(train_text)\n",
    "test_text=pd.DataFrame(test_text)\n",
    "train_text=train_text.fillna({'keyword':''})\n",
    "test_text=test_text.fillna({'keyword':''})"
   ]
  },
  {
   "cell_type": "code",
   "execution_count": null,
   "metadata": {},
   "outputs": [],
   "source": [
    "train_text['keyword']=train['keyword']\n",
    "test_text['keyword']=test['keyword']\n",
    "train_text=pd.get_dummies(train_text, columns=['keyword'])\n",
    "test_text=pd.get_dummies(test_text, columns=['keyword'])\n"
   ]
  },
  {
   "cell_type": "code",
   "execution_count": null,
   "metadata": {},
   "outputs": [],
   "source": [
    "from sklearn.model_selection import train_test_split\n",
    "# from sklearn.tree import DecisionTreeClassifier as RFC\n",
    "from sklearn.metrics import f1_score\n",
    "from tensorflow.keras import layers\n",
    "from tensorflow.keras import models\n",
    "from tensorflow.keras.callbacks import ModelCheckpoint, ReduceLROnPlateau, EarlyStopping"
   ]
  },
  {
   "cell_type": "code",
   "execution_count": null,
   "metadata": {},
   "outputs": [],
   "source": [
    "X_train,X_test, y_train, y_test = train_test_split(train_text, train_labels, test_size=0.2, random_state=20)\n",
    "\n",
    "# VOC_SIZE = len(tok.index_word) + 1\n",
    "EPOCHS = 100\n",
    "BATCH_SIZE = 512\n",
    "UNITS = 64\n",
    "\n",
    "model = models.Sequential([\n",
    "            layers.Dense(512, activation = 'relu'),\n",
    "            layers.Dropout(0.2),\n",
    "            layers.Dense(256, activation= 'relu'),\n",
    "            layers.Dropout(0.2),\n",
    "            layers.Dense(128,activation= 'relu'),\n",
    "            layers.Dense(1,activation='sigmoid')\n",
    "])\n",
    "early_stopping= EarlyStopping(patience=13,verbose=1)\n",
    "checkpoint = ModelCheckpoint('model.h5', save_best_only=True, verbose=1)\n",
    "lr_reduce = ReduceLROnPlateau(patience=5, verbose=1)\n",
    "\n",
    "model.compile(\n",
    "    optimizer=tf.keras.optimizers.Adam(amsgrad=True),\n",
    "    loss='binary_crossentropy',\n",
    "    metrics=['acc']\n",
    "    )\n",
    "\n",
    "history = model.fit(\n",
    "    X_train,\n",
    "    y_train,\n",
    "    validation_split=0.2,\n",
    "    batch_size=BATCH_SIZE,\n",
    "    epochs=EPOCHS,\n",
    "    callbacks=[early_stopping, checkpoint, lr_reduce],\n",
    "    verbose=0\n",
    ")\n",
    "y_test = model.predict_classes(X_text)\n",
    "y=model.predict_classes(test_text)\n",
    "# model1= RFC(random_state=0)\n",
    "# model1.fit(X_train, y_train)\n",
    "# y=model1.predict(X_test)\n",
    "# print(2, f1_score(y_test,y))\n",
    "\n",
    "# model2= RFC()\n",
    "# model2.fit(X_train, y_train)\n",
    "# y=model2.predict(X_test)\n",
    "# print(3, f1_score(y_test,y))\n"
   ]
  },
  {
   "cell_type": "code",
   "execution_count": null,
   "metadata": {},
   "outputs": [],
   "source": [
    "y_test = model.predict_classes(X_test)\n",
    "y=model.predict_classes(test_text)\n",
    "print(y_test.shape, y.shape)"
   ]
  },
  {
   "cell_type": "code",
   "execution_count": null,
   "metadata": {},
   "outputs": [],
   "source": [
    "np.unique(pred, return_counts=True)\n",
    "print(y.shape, test['id'].shape)\n"
   ]
  },
  {
   "cell_type": "code",
   "execution_count": null,
   "metadata": {},
   "outputs": [],
   "source": [
    "dic={'id':test['id'],'target':y[:]}\n",
    "dic=pd.DataFrame(dic)\n",
    "dic.to_csv(\"./out.csv\",index=False)"
   ]
  },
  {
   "cell_type": "code",
   "execution_count": null,
   "metadata": {},
   "outputs": [],
   "source": []
  }
 ],
 "metadata": {
  "kernelspec": {
   "display_name": "Python 3",
   "language": "python",
   "name": "python3"
  },
  "language_info": {
   "codemirror_mode": {
    "name": "ipython",
    "version": 3
   },
   "file_extension": ".py",
   "mimetype": "text/x-python",
   "name": "python",
   "nbconvert_exporter": "python",
   "pygments_lexer": "ipython3",
   "version": "3.8.6rc1"
  }
 },
 "nbformat": 4,
 "nbformat_minor": 4
}
